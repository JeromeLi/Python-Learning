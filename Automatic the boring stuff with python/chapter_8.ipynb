{
 "cells": [
  {
   "cell_type": "markdown",
   "metadata": {},
   "source": [
    "# File Read and Write\n",
    "\n",
    "## File and File Path\n"
   ]
  },
  {
   "cell_type": "code",
   "execution_count": 5,
   "metadata": {},
   "outputs": [
    {
     "data": {
      "text/plain": [
       "'usr/bin/spam'"
      ]
     },
     "execution_count": 5,
     "metadata": {},
     "output_type": "execute_result"
    }
   ],
   "source": [
    "import os\n",
    "os.path.join('usr', 'bin', 'spam')"
   ]
  },
  {
   "cell_type": "code",
   "execution_count": 33,
   "metadata": {},
   "outputs": [
    {
     "data": {
      "text/plain": [
       "96"
      ]
     },
     "execution_count": 33,
     "metadata": {},
     "output_type": "execute_result"
    }
   ],
   "source": [
    "import os\n",
    "os.getcwd()\n",
    "# os.chdir('/Users')\n",
    "# os.getcwd()\n",
    "os.chdir('/Users/jerome/Git/learn_python/Automatic the boring stuff with python')\n",
    "os.getcwd()\n",
    "# os.makedirs('python_mkdir_demo00')\n",
    "os.path.abspath('.')\n",
    "# os.removedirs('python_mkdir_demo00')\n",
    "os.listdir()\n",
    "os.path.getsize('.')"
   ]
  }
 ],
 "metadata": {
  "interpreter": {
   "hash": "c4732a6af3cb3ac9827c84ccc0037527ea0270d4a3e0129646936cf9074a6d19"
  },
  "kernelspec": {
   "display_name": "Python 3.9.7 64-bit ('Learn_Python_Jupyter': conda)",
   "name": "python3"
  },
  "language_info": {
   "codemirror_mode": {
    "name": "ipython",
    "version": 3
   },
   "file_extension": ".py",
   "mimetype": "text/x-python",
   "name": "python",
   "nbconvert_exporter": "python",
   "pygments_lexer": "ipython3",
   "version": "3.9.7"
  },
  "orig_nbformat": 4
 },
 "nbformat": 4,
 "nbformat_minor": 2
}
